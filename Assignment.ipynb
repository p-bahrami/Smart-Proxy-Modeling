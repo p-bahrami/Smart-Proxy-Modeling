{
    "cells": [
        {
            "cell_type": "markdown",
            "metadata": {
                "collapsed": true
            },
            "source": "# My Jupyter Notebook on IBM Watson Studio"
        },
        {
            "cell_type": "markdown",
            "metadata": {},
            "source": "**Peyman Bahrami**\n\nOil and Gas Engineer"
        },
        {
            "cell_type": "markdown",
            "metadata": {},
            "source": "*I am interested in data science because it is the future science*"
        },
        {
            "cell_type": "markdown",
            "metadata": {},
            "source": "### The below code calculates the area of a circle:"
        },
        {
            "cell_type": "code",
            "execution_count": 11,
            "metadata": {},
            "outputs": [
                {
                    "name": "stdout",
                    "output_type": "stream",
                    "text": "Area of a circle with radius 3 is:\n28.274333882308138\n"
                }
            ],
            "source": "import math\n\ndef area(a):\n    A = math.pi*(a**2)\n    print(\"Area of a circle with radius \"+ str(a) + \" is:\")\n    return A\n    \nprint(area(3))"
        },
        {
            "cell_type": "markdown",
            "metadata": {},
            "source": "| Name | Age | Gender |\n| :--------- |:-------------:| :-----:|\n| Peyman | 30 | M |\n| Sara | 29 | F |\n\n[Check my Github](https://github.com/p-bahrami)\n\n* A\n* B\n* C"
        }
    ],
    "metadata": {
        "kernelspec": {
            "display_name": "Python 3.9",
            "language": "python",
            "name": "python3"
        },
        "language_info": {
            "codemirror_mode": {
                "name": "ipython",
                "version": 3
            },
            "file_extension": ".py",
            "mimetype": "text/x-python",
            "name": "python",
            "nbconvert_exporter": "python",
            "pygments_lexer": "ipython3",
            "version": "3.9.12"
        }
    },
    "nbformat": 4,
    "nbformat_minor": 1
}